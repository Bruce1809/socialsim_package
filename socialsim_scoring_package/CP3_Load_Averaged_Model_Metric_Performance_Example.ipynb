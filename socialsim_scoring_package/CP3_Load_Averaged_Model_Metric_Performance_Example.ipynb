{
 "cells": [
  {
   "cell_type": "code",
   "execution_count": 1,
   "metadata": {},
   "outputs": [
    {
     "name": "stderr",
     "output_type": "stream",
     "text": [
      "/home/glen075/miniconda2/envs/socsim/lib/python3.7/site-packages/statsmodels-0.10.1-py3.7-linux-x86_64.egg/statsmodels/tools/_testing.py:19: FutureWarning: pandas.util.testing is deprecated. Use the functions in the public API at pandas.testing instead.\n",
      "  import pandas.util.testing as tm\n"
     ]
    }
   ],
   "source": [
    "import glob\n",
    "import os\n",
    "import socialsim_scoring as scoring"
   ]
  },
  {
   "cell_type": "code",
   "execution_count": 2,
   "metadata": {},
   "outputs": [],
   "source": [
    "## replace this variable with the directory that contains the _metrics.json files\n",
    "metrics_dir = './example_metrics_files_directory'  \n",
    "metrics_files = glob.glob(os.path.join(metrics_dir,'*metrics.json'))"
   ]
  },
  {
   "cell_type": "markdown",
   "metadata": {},
   "source": [
    "# Averaging Model Performance across Multiple Submissions\n",
    "\n",
    "### Performance is evaluated per model, averaged over multiple submissions (if multiple submissions exist)\n",
    "\n",
    "1. Model performance is averaged across all submissions\n",
    "(e.g. if model_1 has three submissions that achieved RMSE of [0.0, 0.1, 0.2] for 'unique_users_over_time' at the node level for infoID_1, then RMSE for 'unique_users_over_time' at the node level for infoID_1 is 0.1 for model_1)\n",
    "\n",
    "\n",
    "\n",
    "2. Model performance is averaged across informationIDs for node level measurements and across communities for community level measurements\n",
    "(e.g. if there are four information IDs simulated and model_1 has RMSE of [0.1,0.1,0.1,0.2] for 'unique_users_over_time' at the node level for the four information IDs, then RMSE for 'unique_users_over_time' at the node level is 0.125 for model_1)"
   ]
  },
  {
   "cell_type": "code",
   "execution_count": 3,
   "metadata": {},
   "outputs": [
    {
     "name": "stdout",
     "output_type": "stream",
     "text": [
      "Teams represented: ['baselines']\n",
      "Scenarios represented: ['1', '2']\n"
     ]
    }
   ],
   "source": [
    "averaged_model_results = scoring.load_averaged_model_metrics_json(metrics_files)"
   ]
  },
  {
   "cell_type": "code",
   "execution_count": 4,
   "metadata": {},
   "outputs": [
    {
     "data": {
      "text/html": [
       "<div>\n",
       "<style scoped>\n",
       "    .dataframe tbody tr th:only-of-type {\n",
       "        vertical-align: middle;\n",
       "    }\n",
       "\n",
       "    .dataframe tbody tr th {\n",
       "        vertical-align: top;\n",
       "    }\n",
       "\n",
       "    .dataframe thead th {\n",
       "        text-align: right;\n",
       "    }\n",
       "</style>\n",
       "<table border=\"1\" class=\"dataframe\">\n",
       "  <thead>\n",
       "    <tr style=\"text-align: right;\">\n",
       "      <th></th>\n",
       "      <th>measurement</th>\n",
       "      <th>tira_dataset</th>\n",
       "      <th>platform</th>\n",
       "      <th>team</th>\n",
       "      <th>metric</th>\n",
       "      <th>temporal</th>\n",
       "      <th>scenario</th>\n",
       "      <th>measurement_type</th>\n",
       "      <th>scale</th>\n",
       "      <th>node</th>\n",
       "      <th>identifier</th>\n",
       "      <th>measurement_args</th>\n",
       "      <th>value</th>\n",
       "      <th>value_CI</th>\n",
       "    </tr>\n",
       "  </thead>\n",
       "  <tbody>\n",
       "    <tr>\n",
       "      <th>0</th>\n",
       "      <td>assortativity_coefficient</td>\n",
       "      <td>scenario1</td>\n",
       "      <td>github</td>\n",
       "      <td>baselines</td>\n",
       "      <td>absolute_difference</td>\n",
       "      <td>Batch</td>\n",
       "      <td>1</td>\n",
       "      <td>social_network_of_spread</td>\n",
       "      <td>population</td>\n",
       "      <td></td>\n",
       "      <td>cp3_s1_shifted</td>\n",
       "      <td></td>\n",
       "      <td>0.057235</td>\n",
       "      <td>NaN</td>\n",
       "    </tr>\n",
       "    <tr>\n",
       "      <th>1</th>\n",
       "      <td>assortativity_coefficient</td>\n",
       "      <td>scenario1</td>\n",
       "      <td>github</td>\n",
       "      <td>baselines</td>\n",
       "      <td>absolute_difference</td>\n",
       "      <td>Batch</td>\n",
       "      <td>1</td>\n",
       "      <td>social_network_of_spread</td>\n",
       "      <td>population</td>\n",
       "      <td></td>\n",
       "      <td>cp3_s1_uniform</td>\n",
       "      <td></td>\n",
       "      <td>0.302681</td>\n",
       "      <td>0.009185</td>\n",
       "    </tr>\n",
       "    <tr>\n",
       "      <th>2</th>\n",
       "      <td>assortativity_coefficient</td>\n",
       "      <td>scenario1</td>\n",
       "      <td>github</td>\n",
       "      <td>baselines</td>\n",
       "      <td>absolute_difference</td>\n",
       "      <td>Batch</td>\n",
       "      <td>1</td>\n",
       "      <td>social_network_of_spread</td>\n",
       "      <td>population</td>\n",
       "      <td></td>\n",
       "      <td>cp3_s1_weighted</td>\n",
       "      <td></td>\n",
       "      <td>0.747635</td>\n",
       "      <td>0.009525</td>\n",
       "    </tr>\n",
       "    <tr>\n",
       "      <th>3</th>\n",
       "      <td>assortativity_coefficient</td>\n",
       "      <td>scenario1</td>\n",
       "      <td>github</td>\n",
       "      <td>baselines</td>\n",
       "      <td>absolute_percentage_error</td>\n",
       "      <td>Batch</td>\n",
       "      <td>1</td>\n",
       "      <td>social_network_of_spread</td>\n",
       "      <td>population</td>\n",
       "      <td></td>\n",
       "      <td>cp3_s1_shifted</td>\n",
       "      <td></td>\n",
       "      <td>6.870518</td>\n",
       "      <td>NaN</td>\n",
       "    </tr>\n",
       "    <tr>\n",
       "      <th>4</th>\n",
       "      <td>assortativity_coefficient</td>\n",
       "      <td>scenario1</td>\n",
       "      <td>github</td>\n",
       "      <td>baselines</td>\n",
       "      <td>absolute_percentage_error</td>\n",
       "      <td>Batch</td>\n",
       "      <td>1</td>\n",
       "      <td>social_network_of_spread</td>\n",
       "      <td>population</td>\n",
       "      <td></td>\n",
       "      <td>cp3_s1_uniform</td>\n",
       "      <td></td>\n",
       "      <td>36.333971</td>\n",
       "      <td>1.102517</td>\n",
       "    </tr>\n",
       "  </tbody>\n",
       "</table>\n",
       "</div>"
      ],
      "text/plain": [
       "                 measurement tira_dataset platform       team  \\\n",
       "0  assortativity_coefficient    scenario1   github  baselines   \n",
       "1  assortativity_coefficient    scenario1   github  baselines   \n",
       "2  assortativity_coefficient    scenario1   github  baselines   \n",
       "3  assortativity_coefficient    scenario1   github  baselines   \n",
       "4  assortativity_coefficient    scenario1   github  baselines   \n",
       "\n",
       "                      metric temporal scenario          measurement_type  \\\n",
       "0        absolute_difference    Batch        1  social_network_of_spread   \n",
       "1        absolute_difference    Batch        1  social_network_of_spread   \n",
       "2        absolute_difference    Batch        1  social_network_of_spread   \n",
       "3  absolute_percentage_error    Batch        1  social_network_of_spread   \n",
       "4  absolute_percentage_error    Batch        1  social_network_of_spread   \n",
       "\n",
       "        scale node       identifier measurement_args      value  value_CI  \n",
       "0  population        cp3_s1_shifted                    0.057235       NaN  \n",
       "1  population        cp3_s1_uniform                    0.302681  0.009185  \n",
       "2  population       cp3_s1_weighted                    0.747635  0.009525  \n",
       "3  population        cp3_s1_shifted                    6.870518       NaN  \n",
       "4  population        cp3_s1_uniform                   36.333971  1.102517  "
      ]
     },
     "execution_count": 4,
     "metadata": {},
     "output_type": "execute_result"
    }
   ],
   "source": [
    "averaged_model_results.head()"
   ]
  },
  {
   "cell_type": "code",
   "execution_count": null,
   "metadata": {},
   "outputs": [],
   "source": []
  }
 ],
 "metadata": {
  "kernelspec": {
   "display_name": "socsim",
   "language": "python",
   "name": "socsim"
  },
  "language_info": {
   "codemirror_mode": {
    "name": "ipython",
    "version": 3
   },
   "file_extension": ".py",
   "mimetype": "text/x-python",
   "name": "python",
   "nbconvert_exporter": "python",
   "pygments_lexer": "ipython3",
   "version": "3.7.4"
  }
 },
 "nbformat": 4,
 "nbformat_minor": 2
}
