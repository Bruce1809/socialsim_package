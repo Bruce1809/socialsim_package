{
 "cells": [
  {
   "cell_type": "markdown",
   "metadata": {},
   "source": [
    "<a id='top'></a>"
   ]
  },
  {
   "cell_type": "markdown",
   "metadata": {},
   "source": [
    "# Scaling Up\n",
    "\n",
    "\n",
    "<br>\n",
    "\n",
    " <center> <img src=img/scaling_up.png  width=65%> </center> \n",
    "\n",
    "\n",
    "## Notebook Overview\n",
    " \n",
    "### <a href='#import'> 1) Imports </a>\n",
    "\n",
    "### <a href='#config'> 2) Measurement and metric configuration file </a>\n",
    "\n",
    "### <a href='#taskrunner'> 3) TaskRunner </a>\n",
    "\n",
    "### <a href='#metrics'> 4) Metrics </a>"
   ]
  },
  {
   "cell_type": "markdown",
   "metadata": {},
   "source": [
    "<a id='import'></a>"
   ]
  },
  {
   "cell_type": "markdown",
   "metadata": {},
   "source": [
    "### Imports\n",
    "[Jump to top](#top)\n",
    "\n",
    "So far, we have been focusing on exploring the available measurements and analysis by running individual measurements of each type. Because the code was designed for the automated evaluation of information spread simulations during SocialSim challenge events, it incorporates many automated features to run multiple measurements in batch mode. "
   ]
  },
  {
   "cell_type": "code",
   "execution_count": 4,
   "metadata": {},
   "outputs": [],
   "source": [
    "import socialsim as ss\n",
    "import warnings\n",
    "warnings.filterwarnings(\"ignore\")\n",
    "\n",
    "import pandas as pd\n",
    "import numpy  as np\n",
    "import pprint\n",
    "\n",
    "import matplotlib.pyplot as plt"
   ]
  },
  {
   "cell_type": "markdown",
   "metadata": {},
   "source": [
    "<a id='config'></a>"
   ]
  },
  {
   "cell_type": "markdown",
   "metadata": {},
   "source": [
    "## The SocialSim config file format\n",
    "[Jump to top](#top)\n",
    "\n",
    "In order to run multiple measurements, the package uses a configuration file to specify the measurements that should be included.  This config file has the following format:"
   ]
  },
  {
   "cell_type": "code",
   "execution_count": 5,
   "metadata": {},
   "outputs": [],
   "source": [
    "config_schema = {\n",
    "    \"platform_name\": {\n",
    "        \"measurement_type\": {\n",
    "            \"measurement_scale\": {\n",
    "                \"measurement_name\": {\n",
    "                    \"measurement\": \"function_name\",\n",
    "                    \"measurement_args\": {\n",
    "                        \"arg1\" : \"arg1_value\",\n",
    "                        \"arg2\" : \"arg2_value\",\n",
    "                    },\n",
    "                    \"metrics\": {\n",
    "                        \"metric_name\": {\n",
    "                            \"metric\": \"function_name\",\n",
    "                            \"metric_args\":{\n",
    "                                \"arg1\": \"arg1_value\",\n",
    "                                \"arg2\": \"arg2_value\"\n",
    "                            }\n",
    "                        }\n",
    "                    }\n",
    "                }\n",
    "            }\n",
    "        }\n",
    "    }\n",
    "}\n",
    "\n"
   ]
  },
  {
   "cell_type": "markdown",
   "metadata": {},
   "source": [
    "For example, if we want to measure several network properties for Twitter and several multi-platform measurements for all of the input platforms, we could use the following configuration:"
   ]
  },
  {
   "cell_type": "code",
   "execution_count": 6,
   "metadata": {},
   "outputs": [],
   "source": [
    "config_example = {\n",
    "    \"twitter\": {\n",
    "        \"social_structure\": {\n",
    "            \"population\": {\n",
    "                \"number_of_nodes\": {\n",
    "                    \"measurement\": \"number_of_nodes\",\n",
    "                },\n",
    "                \"degree_distribution\": {\n",
    "                    \"measurement\": \"degree_distribution\"\n",
    "                }\n",
    "            }\n",
    "        }\n",
    "    },\n",
    "    \"multi_platform\": {\n",
    "        \"multi_platform\": {\n",
    "            \"population\": {\n",
    "                \"top_audience_reach\":{\n",
    "                    \"measurement\":\"top_audience_reach\",\n",
    "                    \"measurement_args\":{\n",
    "                        \"k\":5\n",
    "                    }\n",
    "                }\n",
    "            },\n",
    "            \"node\" : {\n",
    "                \"unique_users_over_time\":{\n",
    "                    \"measurement\":\"unique_users_over_time\",\n",
    "                    \"measurement_args\":{\n",
    "                        \"node_level\": True\n",
    "                    }\n",
    "                }\n",
    "            }\n",
    "        }\n",
    "    }\n",
    "}"
   ]
  },
  {
   "cell_type": "markdown",
   "metadata": {},
   "source": [
    "<a id='taskrunner'></a>"
   ]
  },
  {
   "cell_type": "markdown",
   "metadata": {},
   "source": [
    "### The TaskRunner\n",
    "[Jump to top](#top)"
   ]
  },
  {
   "cell_type": "code",
   "execution_count": 7,
   "metadata": {},
   "outputs": [],
   "source": [
    "dataset_path = '../data/tutorial_multi-platform.json'\n",
    "dataset = ss.load_data(dataset_path, verbose=False)"
   ]
  },
  {
   "cell_type": "code",
   "execution_count": 8,
   "metadata": {},
   "outputs": [
    {
     "name": "stdout",
     "output_type": "stream",
     "text": [
      "SOCIALSIM TASKRUNNER   | Subsetting twitter data... Done.\n",
      "SOCIALSIM TASKRUNNER   | Instantiating social_structure... Done.\n",
      "SOCIALSIM MEASUREMENTS | Running social_structure population number_of_nodes... Done. (1.7e-05 seconds.)\n",
      "SOCIALSIM MEASUREMENTS | Running social_structure population degree_distribution... Done. (0.009787 seconds.)\n",
      "SOCIALSIM TASKRUNNER   | Subsetting multi_platform data... Done.\n",
      "SOCIALSIM TASKRUNNER   | Instantiating multi_platform... Done.\n",
      "SOCIALSIM MEASUREMENTS | Running multi_platform population top_audience_reach... Done. (0.121839 seconds.)\n",
      "SOCIALSIM MEASUREMENTS | Running multi_platform node unique_users_over_time... Done. (1.350649 seconds.)\n"
     ]
    }
   ],
   "source": [
    "task_runner = ss.TaskRunner(dataset,config_example,ss.MetaData())\n",
    "\n",
    "results, logs = task_runner.get_results()"
   ]
  },
  {
   "cell_type": "markdown",
   "metadata": {},
   "source": [
    "We can now access the measurement outputs from the results dictionary, which has an identical structure to hte input config file.  For example, if we want to take a look at the number of nodes in the network:"
   ]
  },
  {
   "cell_type": "code",
   "execution_count": 9,
   "metadata": {},
   "outputs": [
    {
     "name": "stdout",
     "output_type": "stream",
     "text": [
      "2082 Twitter nodes\n"
     ]
    }
   ],
   "source": [
    "num_nodes = results['twitter']['social_structure']['population']['number_of_nodes']\n",
    "print('{} Twitter nodes'.format(num_nodes))"
   ]
  },
  {
   "cell_type": "markdown",
   "metadata": {},
   "source": [
    "Or if we want to look at the time series of audience size for a specific piece of information:"
   ]
  },
  {
   "cell_type": "code",
   "execution_count": 10,
   "metadata": {},
   "outputs": [
    {
     "data": {
      "text/html": [
       "<div>\n",
       "<style scoped>\n",
       "    .dataframe tbody tr th:only-of-type {\n",
       "        vertical-align: middle;\n",
       "    }\n",
       "\n",
       "    .dataframe tbody tr th {\n",
       "        vertical-align: top;\n",
       "    }\n",
       "\n",
       "    .dataframe thead th {\n",
       "        text-align: right;\n",
       "    }\n",
       "</style>\n",
       "<table border=\"1\" class=\"dataframe\">\n",
       "  <thead>\n",
       "    <tr style=\"text-align: right;\">\n",
       "      <th></th>\n",
       "      <th>nodeTime</th>\n",
       "      <th>value</th>\n",
       "    </tr>\n",
       "  </thead>\n",
       "  <tbody>\n",
       "    <tr>\n",
       "      <th>0</th>\n",
       "      <td>2015-01-01</td>\n",
       "      <td>0.0</td>\n",
       "    </tr>\n",
       "    <tr>\n",
       "      <th>1</th>\n",
       "      <td>2015-01-02</td>\n",
       "      <td>0.0</td>\n",
       "    </tr>\n",
       "    <tr>\n",
       "      <th>2</th>\n",
       "      <td>2015-01-03</td>\n",
       "      <td>0.0</td>\n",
       "    </tr>\n",
       "    <tr>\n",
       "      <th>3</th>\n",
       "      <td>2015-01-04</td>\n",
       "      <td>0.0</td>\n",
       "    </tr>\n",
       "    <tr>\n",
       "      <th>4</th>\n",
       "      <td>2015-01-05</td>\n",
       "      <td>0.0</td>\n",
       "    </tr>\n",
       "  </tbody>\n",
       "</table>\n",
       "</div>"
      ],
      "text/plain": [
       "    nodeTime  value\n",
       "0 2015-01-01    0.0\n",
       "1 2015-01-02    0.0\n",
       "2 2015-01-03    0.0\n",
       "3 2015-01-04    0.0\n",
       "4 2015-01-05    0.0"
      ]
     },
     "execution_count": 10,
     "metadata": {},
     "output_type": "execute_result"
    }
   ],
   "source": [
    "time_series = results['multi_platform']['multi_platform']['node']['unique_users_over_time']\n",
    "time_series['CVE-2015-6620'].head()"
   ]
  },
  {
   "cell_type": "markdown",
   "metadata": {},
   "source": [
    "We can also look at the log file to see if each measurement ran succesfully."
   ]
  },
  {
   "cell_type": "code",
   "execution_count": 11,
   "metadata": {},
   "outputs": [
    {
     "name": "stdout",
     "output_type": "stream",
     "text": [
      "{'multi_platform': {'multi_platform': {'node': {'unique_users_over_time': {'run_time': 1.350649,\n",
      "                                                                           'status': 'success'}},\n",
      "                                       'population': {'top_audience_reach': {'run_time': 0.121839,\n",
      "                                                                             'status': 'success'}}}},\n",
      " 'twitter': {'social_structure': {'population': {'degree_distribution': {'run_time': 0.009787,\n",
      "                                                                         'status': 'success'},\n",
      "                                                 'number_of_nodes': {'run_time': 1.7e-05,\n",
      "                                                                     'status': 'success'}}}}}\n"
     ]
    }
   ],
   "source": [
    "pprint.pprint(logs)"
   ]
  },
  {
   "cell_type": "markdown",
   "metadata": {},
   "source": [
    "<a id='metrics'></a>"
   ]
  },
  {
   "cell_type": "markdown",
   "metadata": {},
   "source": [
    "### Running Metrics\n",
    "[Jump to top](#top)\n",
    "\n",
    "This tutorial has focused on *measuring* properties of information spread on social platforms, but one of the primary purposes of the package is to enable the *evaluation* of social simulations in comparison with known ground truth observations. We can update our previous configuration to specify which metrics we would like to use to compare the simualation and the ground truth.\n",
    "\n",
    "<img src=\"img/socialsim_evaluation_approach.png?1\" width=\"800\"/>"
   ]
  },
  {
   "cell_type": "code",
   "execution_count": 12,
   "metadata": {},
   "outputs": [],
   "source": [
    "config_example = {\n",
    "    \"twitter\": {\n",
    "        \"social_structure\": {\n",
    "            \"population\": {\n",
    "                \"number_of_nodes\": {\n",
    "                    \"measurement\": \"number_of_nodes\",\n",
    "                    \"metrics\": {\n",
    "                        \"absolute_difference\": {\n",
    "                              \"metric\": \"absolute_difference\",\n",
    "                        },\n",
    "                        \"absolute_percentage_error\": {\n",
    "                          \"metric\": \"absolute_percentage_error\",\n",
    "                        }\n",
    "                    }\n",
    "                },\n",
    "                \"degree_distribution\": {\n",
    "                    \"measurement\": \"degree_distribution\",\n",
    "                    \"metrics\": {\n",
    "                        \"js_divergence\": {\n",
    "                          \"metric\": \"js_divergence\",\n",
    "                          \"metric_args\": {\n",
    "                            \"discrete\": True\n",
    "                        }\n",
    "                    }\n",
    "                  }\n",
    "                }\n",
    "            }\n",
    "        }\n",
    "    },\n",
    "    \"multi_platform\": {\n",
    "        \"multi_platform\": {\n",
    "            \"population\": {\n",
    "                \"top_audience_reach\":{\n",
    "                    \"measurement\":\"top_audience_reach\",\n",
    "                    \"measurement_args\":{\n",
    "                        \"k\":5\n",
    "                    },\n",
    "                    \"metrics\": {\n",
    "                        \"rbo\": {\n",
    "                          \"metric\": \"rbo_score\",\n",
    "                        }\n",
    "                      }\n",
    "                }\n",
    "            },\n",
    "            \"node\" : {\n",
    "                \"unique_users_over_time\":{\n",
    "                    \"measurement\":\"unique_users_over_time\",\n",
    "                    \"measurement_args\":{\n",
    "                        \"node_level\": True\n",
    "                    },\n",
    "                    \"metrics\": {\n",
    "                        \"rmse\": {\n",
    "                          \"metric\": \"rmse\",\n",
    "                          \"metric_args\": {\n",
    "                            \"join\": \"outer\"\n",
    "                          }\n",
    "                        },\n",
    "                        \"dtw\": {\n",
    "                          \"metric\": \"fast_dtw\",\n",
    "                          \"metric_args\": {\n",
    "                             \"join\":\"outer\"\n",
    "                          }\n",
    "                        }\n",
    "                    }\n",
    "                }\n",
    "            }\n",
    "        }\n",
    "    }\n",
    "}"
   ]
  },
  {
   "cell_type": "code",
   "execution_count": 13,
   "metadata": {},
   "outputs": [
    {
     "name": "stdout",
     "output_type": "stream",
     "text": [
      "SOCIALSIM TASKRUNNER   | Subsetting twitter data... Done.\n",
      "SOCIALSIM TASKRUNNER   | Instantiating social_structure... Done.\n",
      "SOCIALSIM MEASUREMENTS | Running social_structure population number_of_nodes... Done. (1.4e-05 seconds.)\n",
      "SOCIALSIM MEASUREMENTS | Running social_structure population degree_distribution... Done. (0.010068 seconds.)\n",
      "SOCIALSIM TASKRUNNER   | Subsetting multi_platform data... Done.\n",
      "SOCIALSIM TASKRUNNER   | Instantiating multi_platform... Done.\n",
      "SOCIALSIM MEASUREMENTS | Running multi_platform population top_audience_reach... Done. (0.07717 seconds.)\n",
      "SOCIALSIM MEASUREMENTS | Running multi_platform node unique_users_over_time... Done. (1.314047 seconds.)\n"
     ]
    }
   ],
   "source": [
    "task_runner = ss.TaskRunner(dataset,config_example,ss.MetaData())\n",
    "\n",
    "results, logs = task_runner(dataset)"
   ]
  },
  {
   "cell_type": "markdown",
   "metadata": {},
   "source": [
    "Now our results should contain the simulation measurements outputs, the ground truth measurements outputs, and the results of the metric comparisons. Because we are comparing the same data against itself, we expect to get perfect agreement."
   ]
  },
  {
   "cell_type": "code",
   "execution_count": 14,
   "metadata": {},
   "outputs": [
    {
     "name": "stdout",
     "output_type": "stream",
     "text": [
      "Simulation: 2082 nodes\n",
      "Ground Truth: 2082 nodes\n"
     ]
    }
   ],
   "source": [
    "sim_result = results['simulation_results']['twitter']['social_structure']['population']['number_of_nodes']\n",
    "ground_truth_result = results['ground_truth_results']['twitter']['social_structure']['population']['number_of_nodes']\n",
    "print('Simulation: {} nodes\\nGround Truth: {} nodes'.format(sim_result,ground_truth_result))"
   ]
  },
  {
   "cell_type": "code",
   "execution_count": 15,
   "metadata": {},
   "outputs": [
    {
     "name": "stdout",
     "output_type": "stream",
     "text": [
      "{'multi_platform': {'multi_platform': {'node': {'unique_users_over_time': {'dtw': {'CVE-2015-0235': 0.0,\n",
      "                                                                                   'CVE-2015-1805': 0.0,\n",
      "                                                                                   'CVE-2015-3864': 0.0,\n",
      "                                                                                   'CVE-2015-6620': 0.0,\n",
      "                                                                                   'CVE-2016-0777': 0.0,\n",
      "                                                                                   'CVE-2016-10033': 0.0,\n",
      "                                                                                   'CVE-2017-0037': 0.0,\n",
      "                                                                                   'CVE-2017-0059': 0.0,\n",
      "                                                                                   'CVE-2017-0199': 0.0,\n",
      "                                                                                   'CVE-2017-8295': 0.0,\n",
      "                                                                                   'crashoverride': 0.0,\n",
      "                                                                                   'industroyer': 0.0,\n",
      "                                                                                   'nmap': 0.0,\n",
      "                                                                                   'notpetya': 0.0,\n",
      "                                                                                   'plugx': 0.0,\n",
      "                                                                                   'vbs': 0.0},\n",
      "                                                                           'rmse': {'CVE-2015-0235': 0.0,\n",
      "                                                                                    'CVE-2015-1805': 0.0,\n",
      "                                                                                    'CVE-2015-3864': 0.0,\n",
      "                                                                                    'CVE-2015-6620': 0.0,\n",
      "                                                                                    'CVE-2016-0777': 0.0,\n",
      "                                                                                    'CVE-2016-10033': 0.0,\n",
      "                                                                                    'CVE-2017-0037': 0.0,\n",
      "                                                                                    'CVE-2017-0059': 0.0,\n",
      "                                                                                    'CVE-2017-0199': 0.0,\n",
      "                                                                                    'CVE-2017-8295': 0.0,\n",
      "                                                                                    'crashoverride': 0.0,\n",
      "                                                                                    'industroyer': 0.0,\n",
      "                                                                                    'nmap': 0.0,\n",
      "                                                                                    'notpetya': 0.0,\n",
      "                                                                                    'plugx': 0.0,\n",
      "                                                                                    'vbs': 0.0}}},\n",
      "                                       'population': {'top_audience_reach': {'rbo': 0.9800238870640211}}}},\n",
      " 'twitter': {'social_structure': {'population': {'degree_distribution': {'js_divergence': 0.0},\n",
      "                                                 'number_of_nodes': {'absolute_difference': 0.0,\n",
      "                                                                     'absolute_percentage_error': 0.0}}}}}\n"
     ]
    }
   ],
   "source": [
    "pprint.pprint(results['metrics'])"
   ]
  },
  {
   "cell_type": "code",
   "execution_count": 16,
   "metadata": {},
   "outputs": [
    {
     "name": "stdout",
     "output_type": "stream",
     "text": [
      "{'ground_truth_logs': {'multi_platform': {'multi_platform': {'node': {'unique_users_over_time': {'run_time': 1.314047,\n",
      "                                                                                           'status': 'success'}},\n",
      "                                                         'population': {'top_audience_reach': {'run_time': 0.07717,\n",
      "                                                                                             'status': 'success'}}}},\n",
      "                     'twitter': {'social_structure': {'population': {'degree_distribution': {'run_time': 0.010068,\n",
      "                                                                                         'status': 'success'},\n",
      "                                                                  'number_of_nodes': {'run_time': 1.4e-05,\n",
      "                                                                                     'status': 'success'}}}}},\n",
      "'metrics_logs': {'multi_platform': {'multi_platform': {'node': {'unique_users_over_time': {'run_time': 8.619556}},\n",
      "                                                    'population': {'top_audience_reach': {'run_time': 0.001644}}}},\n",
      "                'twitter': {'social_structure': {'population': {'degree_distribution': {'run_time': 0.015885},\n",
      "                                                             'number_of_nodes': {'run_time': 1e-05}}}}},\n",
      "'simulation_logs': {'multi_platform': {'multi_platform': {'node': {'unique_users_over_time': {'run_time': 1.671902,\n",
      "                                                                                         'status': 'success'}},\n",
      "                                                       'population': {'top_audience_reach': {'run_time': 0.049114,\n",
      "                                                                                           'status': 'success'}}}},\n",
      "                   'twitter': {'social_structure': {'population': {'degree_distribution': {'run_time': 0.005598,\n",
      "                                                                                       'status': 'success'},\n",
      "                                                                'number_of_nodes': {'run_time': 1.6e-05,\n",
      "                                                                                   'status': 'success'}}}}}}\n"
     ]
    }
   ],
   "source": [
    "pprint.pprint(logs,indent=0)"
   ]
  },
  {
   "cell_type": "code",
   "execution_count": null,
   "metadata": {},
   "outputs": [],
   "source": []
  }
 ],
 "metadata": {
  "kernelspec": {
   "display_name": "Python 3",
   "language": "python",
   "name": "python3"
  },
  "language_info": {
   "codemirror_mode": {
    "name": "ipython",
    "version": 3
   },
   "file_extension": ".py",
   "mimetype": "text/x-python",
   "name": "python",
   "nbconvert_exporter": "python",
   "pygments_lexer": "ipython3",
   "version": "3.6.6"
  }
 },
 "nbformat": 4,
 "nbformat_minor": 2
}
