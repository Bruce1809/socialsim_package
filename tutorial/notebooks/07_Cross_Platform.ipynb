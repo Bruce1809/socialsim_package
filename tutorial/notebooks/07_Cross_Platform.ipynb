{
 "cells": [
  {
   "cell_type": "markdown",
   "metadata": {},
   "source": [
    "<a id=top></a>"
   ]
  },
  {
   "cell_type": "markdown",
   "metadata": {},
   "source": [
    "# Cross Platform Measurements\n",
    "\n",
    "<br>\n",
    "\n",
    " <center> <img src=img/cross_platform2.png  width=32%> </center> \n",
    "\n",
    "\n",
    "## Notebook Overview\n",
    "\n",
    "### <a href='#intro'> 1) Intro to measuring cross platform information spread</a>\n",
    " \n",
    "### <a href='#data'> 2) Imports and data loading</a>\n",
    "\n",
    "### <a href='#meas'> 3) Measuring properties of information spread</a>\n",
    "\n",
    "### <a href='#bonus'> 6) Bonus Exercise </a>"
   ]
  },
  {
   "cell_type": "markdown",
   "metadata": {},
   "source": [
    "<a id='intro'></a>"
   ]
  },
  {
   "cell_type": "markdown",
   "metadata": {},
   "source": [
    "### Introduction\n",
    "[Jump to top](#top)"
   ]
  },
  {
   "cell_type": "markdown",
   "metadata": {},
   "source": [
    "The measurements discussed so far have either focused on measuring information spread on individual platforms or the total amount of spread across all observed platforms.  To begin to study *cross-platform* spread, we developed measurements that compares patterns of spread for the same information unit across multiple platforms.\n",
    "\n",
    "There are many possible connections between different platforms:\n",
    "1. **Content links**: A user may post a link to content on another platform. This provides a clear connection as to the source of the information that the user posted.\n",
    "<img src=\"img/cross_platform.png?1\" width=\"800\"/>\n",
    "2. **User links**: The same user may be active on multiple platforms.  If the same user posts the same content across multiple platforms, we may infer that they had some third source for that information (which we may not be able to observe) Or if we see user respond on one platform and then post the same content on another platform, we can infer that the first platform was the likely source of the information.\n",
    " <img src=\"img/user_matching.png?1\" width=\"800\"/>\n",
    "\n",
    "\n",
    "### Cross-Platform User Linking\n",
    "\n",
    "1. **User-name similarity**: While this may work well for highly-unique usernames, it is likely to suffer from false positives for more common ones.\n",
    "2. **Direct user linking between profiles**: On some platforms, users may provide links to their other social media accounts. For example, a user's Twitter profile may encourage others to also follow their Instagram, or a LinkedIn profile may contain links to the user's GitHub and Twitter accounts.\n",
    "3. **Machine learning models**: Machine learning models can leverage complex features based on the username, the user interests, and the user social connections to make predictions about cross-platform user merging.\n",
    "\n",
    "\n",
    "### Measurements\n",
    "\n",
    "The cross-platform meausrements probe the same four key information spread dimensions as the multi-platform measurements:\n",
    "1. Shares\n",
    "2. Audience\n",
    "3. Lifetime\n",
    "4. Speed\n",
    "\n",
    "But these measurements focus on how these quantities compare between platforms.  The measurements answer:\n",
    "\n",
    "1. **Order of spread**: Which platform does the information reach first? How long does it take for the information to show up on the second platform after it reaches the first?\n",
    "2. **Platform rankings**: On which platform does the information spread most/fastest/longest/to the most people?\n",
    "3. **Temporal correlations**: How correlated is the spread of the information across each pair of platforms?\n",
    "4. **Ranking correlations**: Do the same pieces of information spread the most/fastest/longest/to the most people on different pairs of platforms?\n"
   ]
  },
  {
   "cell_type": "markdown",
   "metadata": {},
   "source": [
    "<a id='data'></a>"
   ]
  },
  {
   "cell_type": "markdown",
   "metadata": {},
   "source": [
    "###  Imports\n",
    "[Jump to top](#top)"
   ]
  },
  {
   "cell_type": "code",
   "execution_count": 1,
   "metadata": {},
   "outputs": [
    {
     "name": "stderr",
     "output_type": "stream",
     "text": [
      "/Users/grac833/anaconda3/envs/socsim_test_env2/lib/python3.6/site-packages/pysal/lib/weights/util.py:19: UserWarning: geopandas not available. Some functionality will be disabled.\n",
      "  warn('geopandas not available. Some functionality will be disabled.')\n",
      "/Users/grac833/anaconda3/envs/socsim_test_env2/lib/python3.6/site-packages/pysal/model/spvcm/abstracts.py:10: UserWarning: The `dill` module is required to use the sqlite backend fully.\n",
      "  from .sqlite import head_to_sql, start_sql\n",
      "/Users/grac833/Documents/Projects/SocialSim/temp/temp/socialsim_package_docker/socialsim/measurements/social_structure.py:13: UserWarning: SNAP import failed. Using igraph version of code instead.\n",
      "  warnings.warn('SNAP import failed. Using igraph version of code instead.')\n"
     ]
    }
   ],
   "source": [
    "import warnings\n",
    "warnings.simplefilter('ignore')\n",
    "warnings.filterwarnings('ignore')\n",
    "import socialsim as ss"
   ]
  },
  {
   "cell_type": "markdown",
   "metadata": {},
   "source": [
    "### Load the dataset\n",
    "[Jump to top](#top)"
   ]
  },
  {
   "cell_type": "code",
   "execution_count": 2,
   "metadata": {},
   "outputs": [],
   "source": [
    "dataset_path = '../data/tutorial_cross-platform.json'\n",
    "dataset = ss.load_data(dataset_path, verbose=False)"
   ]
  },
  {
   "cell_type": "markdown",
   "metadata": {},
   "source": [
    "### Instantiate measurement object\n",
    "[Jump to top](#top)"
   ]
  },
  {
   "cell_type": "code",
   "execution_count": 3,
   "metadata": {},
   "outputs": [],
   "source": [
    "cross_platform = ss.CrossPlatformMeasurements(dataset)"
   ]
  },
  {
   "cell_type": "code",
   "execution_count": 4,
   "metadata": {},
   "outputs": [
    {
     "name": "stdout",
     "output_type": "stream",
     "text": [
      "1) correlation_of_information: Compute Pearson correlation\n",
      "            1. Correlation between shares of information across platforms\n",
      "            2. Correlation between audience sizes\n",
      "            3. Correlation between lifetimes (default = days) of information across platforms\n",
      "            4. Correlation between speeds (default = days) of information across platforms\n",
      "2) lifetime_of_spread: Ranks the different platforms based on the lifespan (default = days) of the content/community\n",
      "3) order_of_spread: Determine the order of spread between platforms of content\n",
      "4) overlapping_users: Calculate the percentage of users common to all platforms (that share in a community/content)\n",
      "5) size_of_audience: The ranking of audience sizes on each platform\n",
      "6) size_of_shares: Determine the number of shares on each platform\n",
      "7) speed_of_spread: Determine the speed at which the information is spreading\n",
      "8) temporal_correlation: Calculates the correlation between the activity time series  between all pairs of platforms\n",
      "9) time_delta: Determine the amount of time (default=days) it takes for a piece of information to appear on another platform.\n"
     ]
    }
   ],
   "source": [
    "cross_platform.list_measurements()"
   ]
  },
  {
   "cell_type": "markdown",
   "metadata": {},
   "source": [
    "<a id='meas'></a>"
   ]
  },
  {
   "cell_type": "markdown",
   "metadata": {},
   "source": [
    "### Run individual measurents\n",
    "[Jump to top](#top)\n",
    "\n",
    "We can compare what order each pariticular piece of information shows up the three platforms we are studying."
   ]
  },
  {
   "cell_type": "code",
   "execution_count": 5,
   "metadata": {},
   "outputs": [
    {
     "data": {
      "text/plain": [
       "{'CVE-2015-0235': ['reddit', 'github', 'twitter'],\n",
       " 'CVE-2015-1805': ['github', 'reddit', 'twitter'],\n",
       " 'CVE-2015-3864': ['reddit', 'github', 'twitter'],\n",
       " 'CVE-2015-6620': ['reddit', 'github'],\n",
       " 'CVE-2016-0777': ['github', 'reddit', 'twitter'],\n",
       " 'CVE-2016-10033': ['github', 'reddit', 'twitter'],\n",
       " 'CVE-2017-0037': ['twitter'],\n",
       " 'CVE-2017-0059': ['twitter'],\n",
       " 'CVE-2017-0199': ['twitter'],\n",
       " 'CVE-2017-8295': ['twitter'],\n",
       " 'crashoverride': ['twitter', 'reddit'],\n",
       " 'industroyer': ['twitter'],\n",
       " 'nmap': ['twitter', 'reddit'],\n",
       " 'notpetya': ['reddit', 'twitter'],\n",
       " 'plugx': ['twitter'],\n",
       " 'vbs': ['reddit', 'twitter']}"
      ]
     },
     "execution_count": 5,
     "metadata": {},
     "output_type": "execute_result"
    }
   ],
   "source": [
    "cross_platform.order_of_spread(node_level=True)"
   ]
  },
  {
   "cell_type": "markdown",
   "metadata": {},
   "source": [
    "We see that for vulnerability identifiers, if they are discusseed on muliple platforms they are most likely to show up on GitHub or Reddit first but if they are also often discussed only on Twitter. For the malware related keywords we have only collected Twitter and Reddit data (which is why GitHub does not show up for those info IDs).\n",
    "\n",
    "If we want to aggregate these results, we can run the population-level version of this measurement which calculates the percent of the time that a paricular platform is first, second, and third across the population of information units."
   ]
  },
  {
   "cell_type": "code",
   "execution_count": 6,
   "metadata": {},
   "outputs": [
    {
     "data": {
      "text/html": [
       "<div>\n",
       "<style scoped>\n",
       "    .dataframe tbody tr th:only-of-type {\n",
       "        vertical-align: middle;\n",
       "    }\n",
       "\n",
       "    .dataframe tbody tr th {\n",
       "        vertical-align: top;\n",
       "    }\n",
       "\n",
       "    .dataframe thead th {\n",
       "        text-align: right;\n",
       "    }\n",
       "</style>\n",
       "<table border=\"1\" class=\"dataframe\">\n",
       "  <thead>\n",
       "    <tr style=\"text-align: right;\">\n",
       "      <th></th>\n",
       "      <th>platform</th>\n",
       "      <th>rank</th>\n",
       "      <th>value</th>\n",
       "    </tr>\n",
       "  </thead>\n",
       "  <tbody>\n",
       "    <tr>\n",
       "      <th>0</th>\n",
       "      <td>github</td>\n",
       "      <td>0</td>\n",
       "      <td>0.500000</td>\n",
       "    </tr>\n",
       "    <tr>\n",
       "      <th>1</th>\n",
       "      <td>reddit</td>\n",
       "      <td>0</td>\n",
       "      <td>0.500000</td>\n",
       "    </tr>\n",
       "    <tr>\n",
       "      <th>2</th>\n",
       "      <td>twitter</td>\n",
       "      <td>0</td>\n",
       "      <td>0.222222</td>\n",
       "    </tr>\n",
       "    <tr>\n",
       "      <th>3</th>\n",
       "      <td>github</td>\n",
       "      <td>1</td>\n",
       "      <td>0.500000</td>\n",
       "    </tr>\n",
       "    <tr>\n",
       "      <th>4</th>\n",
       "      <td>reddit</td>\n",
       "      <td>1</td>\n",
       "      <td>0.500000</td>\n",
       "    </tr>\n",
       "    <tr>\n",
       "      <th>5</th>\n",
       "      <td>twitter</td>\n",
       "      <td>1</td>\n",
       "      <td>0.222222</td>\n",
       "    </tr>\n",
       "    <tr>\n",
       "      <th>6</th>\n",
       "      <td>github</td>\n",
       "      <td>2</td>\n",
       "      <td>0.000000</td>\n",
       "    </tr>\n",
       "    <tr>\n",
       "      <th>7</th>\n",
       "      <td>reddit</td>\n",
       "      <td>2</td>\n",
       "      <td>0.000000</td>\n",
       "    </tr>\n",
       "    <tr>\n",
       "      <th>8</th>\n",
       "      <td>twitter</td>\n",
       "      <td>2</td>\n",
       "      <td>0.555556</td>\n",
       "    </tr>\n",
       "  </tbody>\n",
       "</table>\n",
       "</div>"
      ],
      "text/plain": [
       "  platform rank     value\n",
       "0   github    0  0.500000\n",
       "1   reddit    0  0.500000\n",
       "2  twitter    0  0.222222\n",
       "3   github    1  0.500000\n",
       "4   reddit    1  0.500000\n",
       "5  twitter    1  0.222222\n",
       "6   github    2  0.000000\n",
       "7   reddit    2  0.000000\n",
       "8  twitter    2  0.555556"
      ]
     },
     "execution_count": 6,
     "metadata": {},
     "output_type": "execute_result"
    }
   ],
   "source": [
    "cross_platform.order_of_spread()"
   ]
  },
  {
   "cell_type": "markdown",
   "metadata": {},
   "source": [
    "These aggregate results are only for information units that spread across multiple platforms.  We see that (for this very small sample), information is more likely to start spreading on GitHub or Reddit and later appear on Twitter.\n"
   ]
  },
  {
   "cell_type": "code",
   "execution_count": 7,
   "metadata": {},
   "outputs": [
    {
     "name": "stdout",
     "output_type": "stream",
     "text": [
      "     informationID  level_1            nodeTime next_platform_timestamp  \\\n",
      "0    CVE-2015-0235        0 2015-01-27 15:43:09     2015-01-27 17:05:58   \n",
      "1    CVE-2015-0235        1 2015-01-27 15:43:09     2016-03-09 16:15:46   \n",
      "2    CVE-2015-0235        2 2015-01-27 17:05:58     2016-03-09 16:15:46   \n",
      "3    CVE-2015-1805        0 2015-06-08 17:41:21     2016-03-19 06:42:29   \n",
      "4    CVE-2015-1805        1 2015-06-08 17:41:21     2016-03-19 08:38:17   \n",
      "5    CVE-2015-1805        2 2016-03-19 06:42:29     2016-03-19 08:38:17   \n",
      "6    CVE-2015-3864        0 2015-08-14 01:58:02     2015-08-14 21:51:04   \n",
      "7    CVE-2015-3864        1 2015-08-14 01:58:02     2016-03-27 03:01:58   \n",
      "8    CVE-2015-3864        2 2015-08-14 21:51:04     2016-03-27 03:01:58   \n",
      "9    CVE-2015-6620        0 2015-12-10 07:40:38     2015-12-13 18:02:08   \n",
      "10   CVE-2016-0777        0 2016-01-14 14:17:47     2016-01-14 14:36:39   \n",
      "11   CVE-2016-0777        1 2016-01-14 14:17:47     2016-07-14 06:21:21   \n",
      "12   CVE-2016-0777        2 2016-01-14 14:36:39     2016-07-14 06:21:21   \n",
      "13  CVE-2016-10033        0 2016-12-26 07:50:41     2016-12-26 10:01:20   \n",
      "14  CVE-2016-10033        1 2016-12-26 07:50:41     2016-12-26 10:14:50   \n",
      "15  CVE-2016-10033        2 2016-12-26 10:01:20     2016-12-26 10:14:50   \n",
      "16   crashoverride        0 2017-06-12 12:09:59     2017-06-24 17:09:51   \n",
      "17            nmap        0 2017-03-14 16:24:21     2017-03-29 19:57:39   \n",
      "18        notpetya        0 2017-06-27 16:59:14     2017-06-27 17:28:52   \n",
      "19             vbs        0 2017-03-19 05:02:46     2017-03-27 18:51:54   \n",
      "\n",
      "           time_diff  \n",
      "0    0 days 01:22:49  \n",
      "1  407 days 00:32:37  \n",
      "2  406 days 23:09:48  \n",
      "3  284 days 13:01:08  \n",
      "4  284 days 14:56:56  \n",
      "5    0 days 01:55:48  \n",
      "6    0 days 19:53:02  \n",
      "7  226 days 01:03:56  \n",
      "8  225 days 05:10:54  \n",
      "9    3 days 10:21:30  \n",
      "10   0 days 00:18:52  \n",
      "11 181 days 16:03:34  \n",
      "12 181 days 15:44:42  \n",
      "13   0 days 02:10:39  \n",
      "14   0 days 02:24:09  \n",
      "15   0 days 00:13:30  \n",
      "16  12 days 04:59:52  \n",
      "17  15 days 03:33:18  \n",
      "18   0 days 00:29:38  \n",
      "19   8 days 13:49:08  \n"
     ]
    },
    {
     "data": {
      "image/png": "[encoded data removed]",
      "text/plain": [
       "<Figure size 1080x360 with 6 Axes>"
      ]
     },
     "metadata": {
      "needs_background": "light"
     },
     "output_type": "display_data"
    }
   ],
   "source": [
    "meas = cross_platform.time_delta(time_granularity='D')\n",
    "\n",
    "ss.generate_plot(\n",
    "    meas, \n",
    "    measurement_name='population_time_delta',\n",
    "    show=True\n",
    "    )"
   ]
  },
  {
   "cell_type": "markdown",
   "metadata": {},
   "source": [
    "Because we only have a small sample here, we can't make strong conclusions for these distributions but we see that there is sometimes a very large time gap betewen when a piece of information first shows up on one platform to when it first shows up on another. In particular, when information appears first on GitHub and then later on Twitter the time gap is close to a year.  In contrast, the information that appears first on Greddit and then on GitHub appears on GitHub within several days of the first Reddit appearance.\n",
    "\n",
    "We can also study whether the same information units tend to be prominent on different pairs of platforms.  For example, are the same software vulnerabilities discussed on both Twitter and Reddit? Therefore, we look at the spearman correlatin of the top-k ranking of information units by number of shares."
   ]
  },
  {
   "cell_type": "code",
   "execution_count": 8,
   "metadata": {},
   "outputs": [
    {
     "data": {
      "text/html": [
       "<div>\n",
       "<style scoped>\n",
       "    .dataframe tbody tr th:only-of-type {\n",
       "        vertical-align: middle;\n",
       "    }\n",
       "\n",
       "    .dataframe tbody tr th {\n",
       "        vertical-align: top;\n",
       "    }\n",
       "\n",
       "    .dataframe thead th {\n",
       "        text-align: right;\n",
       "    }\n",
       "</style>\n",
       "<table border=\"1\" class=\"dataframe\">\n",
       "  <thead>\n",
       "    <tr style=\"text-align: right;\">\n",
       "      <th></th>\n",
       "      <th>platform1</th>\n",
       "      <th>platform2</th>\n",
       "      <th>value</th>\n",
       "    </tr>\n",
       "  </thead>\n",
       "  <tbody>\n",
       "    <tr>\n",
       "      <th>0</th>\n",
       "      <td>github</td>\n",
       "      <td>reddit</td>\n",
       "      <td>0.673206</td>\n",
       "    </tr>\n",
       "    <tr>\n",
       "      <th>1</th>\n",
       "      <td>github</td>\n",
       "      <td>twitter</td>\n",
       "      <td>-0.106537</td>\n",
       "    </tr>\n",
       "    <tr>\n",
       "      <th>2</th>\n",
       "      <td>reddit</td>\n",
       "      <td>twitter</td>\n",
       "      <td>0.087642</td>\n",
       "    </tr>\n",
       "  </tbody>\n",
       "</table>\n",
       "</div>"
      ],
      "text/plain": [
       "  platform1 platform2     value\n",
       "0    github    reddit  0.673206\n",
       "1    github   twitter -0.106537\n",
       "2    reddit   twitter  0.087642"
      ]
     },
     "execution_count": 8,
     "metadata": {},
     "output_type": "execute_result"
    }
   ],
   "source": [
    "cross_platform.correlation_of_information(measure='share')"
   ]
  },
  {
   "cell_type": "markdown",
   "metadata": {},
   "source": [
    "We see that the same pieces of information tend to be prominently discusssed on both GitHub and Reddit while the correlation between the most discussed information is low between Twitter and the other platforms."
   ]
  },
  {
   "cell_type": "markdown",
   "metadata": {},
   "source": [
    "We can also explore whether sharing behavior tends to be temporally correlated across multiple platforms for the same peice of information."
   ]
  },
  {
   "cell_type": "code",
   "execution_count": 9,
   "metadata": {},
   "outputs": [
    {
     "data": {
      "image/png": "[encoded data removed]",
      "text/plain": [
       "<Figure size 1080x360 with 3 Axes>"
      ]
     },
     "metadata": {
      "needs_background": "light"
     },
     "output_type": "display_data"
    }
   ],
   "source": [
    "meas = cross_platform.temporal_correlation(measure='share')\n",
    "\n",
    "ss.generate_plot(\n",
    "    meas, \n",
    "    measurement_name='population_temporal_correlation_of_shares',\n",
    "    show=True\n",
    "    )"
   ]
  },
  {
   "cell_type": "markdown",
   "metadata": {},
   "source": [
    "We see that typically there is little temporal correlation between sharing time series on each pair of platforms.  Even if the same piece of information appears on multiple platforms, it is typically being shared at different times."
   ]
  },
  {
   "cell_type": "markdown",
   "metadata": {},
   "source": [
    "<a id='bonus'></a>"
   ]
  },
  {
   "cell_type": "markdown",
   "metadata": {},
   "source": [
    "### Bonus Exercise\n",
    "[Jump to top](#top)\n",
    "\n",
    "Given the following dataset related to discussion of several cryptocurrencies discussed on Twitter and Reddit, identify which platform has the largest audience for these coins and which platform they appear on first."
   ]
  },
  {
   "cell_type": "code",
   "execution_count": 10,
   "metadata": {},
   "outputs": [
    {
     "data": {
      "text/html": [
       "<div>\n",
       "<style scoped>\n",
       "    .dataframe tbody tr th:only-of-type {\n",
       "        vertical-align: middle;\n",
       "    }\n",
       "\n",
       "    .dataframe tbody tr th {\n",
       "        vertical-align: top;\n",
       "    }\n",
       "\n",
       "    .dataframe thead th {\n",
       "        text-align: right;\n",
       "    }\n",
       "</style>\n",
       "<table border=\"1\" class=\"dataframe\">\n",
       "  <thead>\n",
       "    <tr style=\"text-align: right;\">\n",
       "      <th></th>\n",
       "      <th>actionType</th>\n",
       "      <th>communityID</th>\n",
       "      <th>informationID</th>\n",
       "      <th>nodeID</th>\n",
       "      <th>nodeTime</th>\n",
       "      <th>nodeUserID</th>\n",
       "      <th>parentID</th>\n",
       "      <th>platform</th>\n",
       "      <th>rootID</th>\n",
       "      <th>urlDomains</th>\n",
       "    </tr>\n",
       "  </thead>\n",
       "  <tbody>\n",
       "    <tr>\n",
       "      <th>0</th>\n",
       "      <td>tweet</td>\n",
       "      <td>NaN</td>\n",
       "      <td>pesetacoin</td>\n",
       "      <td>xT2oPbm5lEKmnUaulpfpHg</td>\n",
       "      <td>2017-04-20 00:08:12</td>\n",
       "      <td>QBOQekSL7T9wGH00LoMJdQ</td>\n",
       "      <td>xT2oPbm5lEKmnUaulpfpHg</td>\n",
       "      <td>twitter</td>\n",
       "      <td>xT2oPbm5lEKmnUaulpfpHg</td>\n",
       "      <td>NaN</td>\n",
       "    </tr>\n",
       "    <tr>\n",
       "      <th>1</th>\n",
       "      <td>tweet</td>\n",
       "      <td>NaN</td>\n",
       "      <td>pesetacoin</td>\n",
       "      <td>_ilXd9xKnC3eiG9DU0oO1w</td>\n",
       "      <td>2017-04-20 00:09:12</td>\n",
       "      <td>QBOQekSL7T9wGH00LoMJdQ</td>\n",
       "      <td>_ilXd9xKnC3eiG9DU0oO1w</td>\n",
       "      <td>twitter</td>\n",
       "      <td>_ilXd9xKnC3eiG9DU0oO1w</td>\n",
       "      <td>NaN</td>\n",
       "    </tr>\n",
       "    <tr>\n",
       "      <th>2</th>\n",
       "      <td>tweet</td>\n",
       "      <td>NaN</td>\n",
       "      <td>pesetacoin</td>\n",
       "      <td>L62zgHQH68ICW5ZdR2Vs0Q</td>\n",
       "      <td>2017-04-20 00:10:55</td>\n",
       "      <td>QBOQekSL7T9wGH00LoMJdQ</td>\n",
       "      <td>L62zgHQH68ICW5ZdR2Vs0Q</td>\n",
       "      <td>twitter</td>\n",
       "      <td>L62zgHQH68ICW5ZdR2Vs0Q</td>\n",
       "      <td>NaN</td>\n",
       "    </tr>\n",
       "    <tr>\n",
       "      <th>3</th>\n",
       "      <td>retweet</td>\n",
       "      <td>NaN</td>\n",
       "      <td>ubiq</td>\n",
       "      <td>fkh1kvOdDT1ktNxe1CXyHg</td>\n",
       "      <td>2017-04-20 00:14:54</td>\n",
       "      <td>T3TgoScoG7rQG4OkQxISUg</td>\n",
       "      <td>lM-rbdaIsIfiU4flXHUtWw</td>\n",
       "      <td>twitter</td>\n",
       "      <td>lM-rbdaIsIfiU4flXHUtWw</td>\n",
       "      <td>NaN</td>\n",
       "    </tr>\n",
       "    <tr>\n",
       "      <th>4</th>\n",
       "      <td>tweet</td>\n",
       "      <td>NaN</td>\n",
       "      <td>peercoin</td>\n",
       "      <td>Vo6p3wJTaUOSMEPCQg7Iiw</td>\n",
       "      <td>2017-04-20 00:35:03</td>\n",
       "      <td>A2D2li2KEUmnd94e49fgHg</td>\n",
       "      <td>Vo6p3wJTaUOSMEPCQg7Iiw</td>\n",
       "      <td>twitter</td>\n",
       "      <td>Vo6p3wJTaUOSMEPCQg7Iiw</td>\n",
       "      <td>NaN</td>\n",
       "    </tr>\n",
       "  </tbody>\n",
       "</table>\n",
       "</div>"
      ],
      "text/plain": [
       "  actionType communityID informationID                  nodeID  \\\n",
       "0      tweet         NaN    pesetacoin  xT2oPbm5lEKmnUaulpfpHg   \n",
       "1      tweet         NaN    pesetacoin  _ilXd9xKnC3eiG9DU0oO1w   \n",
       "2      tweet         NaN    pesetacoin  L62zgHQH68ICW5ZdR2Vs0Q   \n",
       "3    retweet         NaN          ubiq  fkh1kvOdDT1ktNxe1CXyHg   \n",
       "4      tweet         NaN      peercoin  Vo6p3wJTaUOSMEPCQg7Iiw   \n",
       "\n",
       "             nodeTime              nodeUserID                parentID  \\\n",
       "0 2017-04-20 00:08:12  QBOQekSL7T9wGH00LoMJdQ  xT2oPbm5lEKmnUaulpfpHg   \n",
       "1 2017-04-20 00:09:12  QBOQekSL7T9wGH00LoMJdQ  _ilXd9xKnC3eiG9DU0oO1w   \n",
       "2 2017-04-20 00:10:55  QBOQekSL7T9wGH00LoMJdQ  L62zgHQH68ICW5ZdR2Vs0Q   \n",
       "3 2017-04-20 00:14:54  T3TgoScoG7rQG4OkQxISUg  lM-rbdaIsIfiU4flXHUtWw   \n",
       "4 2017-04-20 00:35:03  A2D2li2KEUmnd94e49fgHg  Vo6p3wJTaUOSMEPCQg7Iiw   \n",
       "\n",
       "  platform                  rootID urlDomains  \n",
       "0  twitter  xT2oPbm5lEKmnUaulpfpHg        NaN  \n",
       "1  twitter  _ilXd9xKnC3eiG9DU0oO1w        NaN  \n",
       "2  twitter  L62zgHQH68ICW5ZdR2Vs0Q        NaN  \n",
       "3  twitter  lM-rbdaIsIfiU4flXHUtWw        NaN  \n",
       "4  twitter  Vo6p3wJTaUOSMEPCQg7Iiw        NaN  "
      ]
     },
     "execution_count": 10,
     "metadata": {},
     "output_type": "execute_result"
    }
   ],
   "source": [
    "dataset_path = '../data/tutorial_cross-platform_bonus.json'\n",
    "dataset = ss.load_data(dataset_path, verbose=False)\n",
    "\n",
    "dataset.head()"
   ]
  },
  {
   "cell_type": "markdown",
   "metadata": {},
   "source": [
    "**Do these coins reach a larger audience on Twitter or Telegram?**"
   ]
  },
  {
   "cell_type": "code",
   "execution_count": null,
   "metadata": {},
   "outputs": [],
   "source": []
  },
  {
   "cell_type": "markdown",
   "metadata": {},
   "source": [
    "**Does discussion tend to start on Twitter or Telegram?**"
   ]
  },
  {
   "cell_type": "code",
   "execution_count": null,
   "metadata": {},
   "outputs": [],
   "source": []
  },
  {
   "cell_type": "markdown",
   "metadata": {},
   "source": [
    "**How many days elapse between the first appearance on one platform and the first appearance on another?**"
   ]
  },
  {
   "cell_type": "code",
   "execution_count": null,
   "metadata": {},
   "outputs": [],
   "source": []
  }
 ],
 "metadata": {
  "kernelspec": {
   "display_name": "SocSim",
   "language": "python",
   "name": "socsim_test_env"
  },
  "language_info": {
   "codemirror_mode": {
    "name": "ipython",
    "version": 3
   },
   "file_extension": ".py",
   "mimetype": "text/x-python",
   "name": "python",
   "nbconvert_exporter": "python",
   "pygments_lexer": "ipython3",
   "version": "3.6.7"
  }
 },
 "nbformat": 4,
 "nbformat_minor": 2
}
