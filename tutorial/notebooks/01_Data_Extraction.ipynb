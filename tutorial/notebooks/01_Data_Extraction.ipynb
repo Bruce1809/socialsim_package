{
 "cells": [
  {
   "cell_type": "markdown",
   "metadata": {},
   "source": [
    "<a id='top'></a>"
   ]
  },
  {
   "cell_type": "markdown",
   "metadata": {},
   "source": [
    "# Data Extraction\n",
    "\n",
    " \n",
    "<br>\n",
    "\n",
    " <center> <img src=img/data_extraction.png  width=75%> </center>  \n",
    " \n",
    "#### Goal: Learn how to convert raw JSON data from a platform API into the SocialSim package input format\n",
    " \n",
    "### <a href='#intro'> 1) Intro To SocialSim data format </a>\n",
    " \n",
    "### <a href='#data_conversion'> 2) Converting To SocialSim data format </a>\n",
    " \n",
    "### <a href='#twitter_data'> 3) Example with Twitter data </a>\n"
   ]
  },
  {
   "cell_type": "markdown",
   "metadata": {},
   "source": [
    "<a id='intro'></a>"
   ]
  },
  {
   "cell_type": "markdown",
   "metadata": {},
   "source": [
    "### SocialSim Data Format\n",
    "[Jump to top](#top)\n",
    "\n",
    "The measurements package leverages a standardized data format across multiple social platforms. This format is designed to extract key properties of user actions that answer questions related to information spread.\n",
    "\n",
    "<img src=\"img/data_format.png?1\" width=\"800\"/>\n",
    "\n",
    "The information ID is a key quantity that allows us to distill the content of social media shares into a trackable identifier. Examples would include hashtags, keywords, URLs, and detected topics but the information ID could be any derived property of the content that could be tracked.\n",
    "\n",
    "<img src=\"img/info_id.png?1\" width=\"800\"/>"
   ]
  },
  {
   "cell_type": "markdown",
   "metadata": {},
   "source": [
    "The parent ID and root ID are what enable us to track sharing paths through the social network.\n",
    "\n",
    "<img src=\"img/root_parent.png?1\" width=\"800\"/>\n",
    "\n",
    "The actionType varies by the interaction mechanisms that are enabled on each platform, which may range from the very simple (only a single message interaction) to the highly complex and structure (e.g. GitHub).\n",
    "\n",
    "<img src=\"img/actionTypes.png?1\" width=\"700\"/>"
   ]
  },
  {
   "cell_type": "markdown",
   "metadata": {},
   "source": [
    "The input file structure contains one JSON per line containing these relevent fields:\n",
    "\n",
    "```json\n",
    "{\"actionType\": \"post\", \"informationID\": \"CVE-2015-6620\", \"nodeID\": \"t3_c9uWs8FVfbko2qaPNgpUFA\", \"nodeTime\": \"2015-12-10T06:41:02Z\", \"nodeUserID\": \"vHwXTX4FohkDUqQMdjb3zg\", \"parentID\": \"t3_c9uWs8FVfbko2qaPNgpUFA\", \"platform\": \"reddit\", \"rootID\": \"t3_c9uWs8FVfbko2qaPNgpUFA\"}\n",
    "{\"actionType\": \"post\", \"informationID\": \"CVE-2015-6620\", \"nodeID\": \"t3_UKRvYWT1sB1Gy98yZccoYQ\", \"nodeTime\": \"2015-12-10T07:40:38Z\", \"nodeUserID\": \"vHwXTX4FohkDUqQMdjb3zg\", \"parentID\": \"t3_UKRvYWT1sB1Gy98yZccoYQ\", \"platform\": \"reddit\", \"rootID\": \"t3_UKRvYWT1sB1Gy98yZccoYQ\"}\n",
    "{\"actionType\": \"post\", \"informationID\": \"CVE-2015-6620\", \"nodeID\": \"t3_2dRXuDU88Z4K_c90e0hVBQ\", \"nodeTime\": \"2015-12-10T08:41:03Z\", \"nodeUserID\": \"vHwXTX4FohkDUqQMdjb3zg\", \"parentID\": \"t3_2dRXuDU88Z4K_c90e0hVBQ\", \"platform\": \"reddit\", \"rootID\": \"t3_2dRXuDU88Z4K_c90e0hVBQ\"}\n",
    "```"
   ]
  },
  {
   "cell_type": "markdown",
   "metadata": {},
   "source": [
    "<a id='data_conversion'></a>"
   ]
  },
  {
   "cell_type": "markdown",
   "metadata": {},
   "source": [
    "### Converting Data\n",
    "[Jump to top](#top)\n",
    "\n",
    "So, how do you get from the raw format to this format?\n",
    "\n",
    "For some fields is it relatively simple, just needing to identify the relavent field in the platform's JSON schema.\n",
    "\n",
    "<img src=\"img/simple_fields.png?2\" width=\"700\"/>\n",
    "\n",
    "However, other fields can be more difficult depending on the platform API and sometimes require looking at contextual information in addition to the individual events. "
   ]
  },
  {
   "cell_type": "markdown",
   "metadata": {},
   "source": [
    "**ParentID and RootID**\n",
    "\n",
    "For example, many platforms will provide the direct parent of a particular reply-type post, but *not* the root post that started the thread. If I know each parentID, I can identify the rootID by iterating upwards through the parent tree.\n",
    "\n",
    "<img src=\"img/root_finding.png?1\" width=\"800\"/>\n",
    "\n",
    "However, we sometimes have the oppostie problem where we know the root but not the parent. For example, the Twitter API provides the root tweet for a retweet action, but *does not* provide the direct parent. If UserB retweets UserA and then userC retweets UserB, the API output will list the parent as UserA.  Because we are interested in tracking the pathways of information propagation, I would like to specify UserB as the parent (i.e. immediate source of the information).\n",
    "\n",
    "We can leverage the Twitter follower network as an additional source of information to estimat the most likely parent for a given retweet.  As a criteria for the selecting the immediate parent, we:\n",
    "1. Identify all possible parents by limiting to the tweets/retweets that occured *prior* to the retweet in question\n",
    "2. Identify which of the authors of those tweets/retweets the user in question follows\n",
    "3. Assign the parentID to be the most recent tweet/retweet by a user that the user in question follows\n",
    "\n",
    "<img src=\"img/retweet_parents.png?1\" width=\"700\"/>"
   ]
  },
  {
   "cell_type": "markdown",
   "metadata": {},
   "source": [
    "**InformationID**\n",
    "\n",
    "Extracting the information ID has two steps:\n",
    "1. **Text processing**: Identify whether the information of interest is mentioned in a specific post. There are several possible approaches for this:\n",
    "      1. Use pre-extracted fields: some platforms have their own entity extraction\n",
    "      2. Search the text for specific keywords\n",
    "      3. Perform more advanced text processing such as topic modeling, named entity extraction, or classification models\n",
    "2. **Propagating to child events**: Responses to a post that are about a specified information ID should be considered to also be related to that information ID\n",
    "    \n",
    "\n",
    "<img src=\"img/info_id_extraction.png?1\" width=\"800\"/>"
   ]
  },
  {
   "cell_type": "markdown",
   "metadata": {},
   "source": [
    "### Imports"
   ]
  },
  {
   "cell_type": "code",
   "execution_count": 4,
   "metadata": {},
   "outputs": [],
   "source": [
    "import warnings\n",
    "warnings.filterwarnings(\"ignore\")"
   ]
  },
  {
   "cell_type": "code",
   "execution_count": 5,
   "metadata": {},
   "outputs": [],
   "source": [
    "import socialsim as ss\n",
    "import json\n",
    "import pprint\n",
    "import pandas as pd"
   ]
  },
  {
   "cell_type": "markdown",
   "metadata": {},
   "source": [
    "<a id='twitter_data'></a>"
   ]
  },
  {
   "cell_type": "markdown",
   "metadata": {},
   "source": [
    "### Let's look at some raw Twitter JSON data\n",
    "[Jump to top](#top)"
   ]
  },
  {
   "cell_type": "code",
   "execution_count": null,
   "metadata": {},
   "outputs": [],
   "source": [
    "tweets = []\n",
    "with open('../data/example_raw_twitter_data.json','r') as f:\n",
    "    for line in f:\n",
    "        tweets.append(json.loads(line))\n",
    "pprint.pprint(tweets[0])"
   ]
  },
  {
   "cell_type": "markdown",
   "metadata": {},
   "source": [
    "We have built in functions to convert JSON data from Twitter, Reddit, GitHub, and Teelgram into the required input format. The arguments for these functions are:\n",
    "1. **data** - file path to the raw JSON data\n",
    "2. **info_id_fields** - A specific field path in the JSON file which contains pre-extracted information IDs. One of two options for information ID extraction.\n",
    "3. **keywords** - A list of keywords to search for in the text to use as information IDs. The other option for information ID extraction.\n",
    "4. **anonymized** - A boolean to indicate whether the data is in the processed and anonymized format used by the SocialSim program. Use anonymized = False when working with typical platform API output data. The anonymized = True option is specific for SocialSim data only.\n",
    "\n",
    "For the SocialSim data we are using in this tutorial, several specific keywords of interest have been pre-extracted into the \"extension.socialsim_keywords\" field."
   ]
  },
  {
   "cell_type": "code",
   "execution_count": 7,
   "metadata": {},
   "outputs": [
    {
     "data": {
      "text/plain": [
       "{'socialsim_search_source': 'text',\n",
       " 'socialsim_keywords': ['CVE-2017-0143'],\n",
       " 'created_dow': 'Saturday',\n",
       " 'socialsim_domain': 'CVE',\n",
       " 'created_hod': 20}"
      ]
     },
     "execution_count": 7,
     "metadata": {},
     "output_type": "execute_result"
    }
   ],
   "source": [
    "tweets[0]['extension']"
   ]
  },
  {
   "cell_type": "markdown",
   "metadata": {},
   "source": [
    "So we can specify this field to extract the information IDs from."
   ]
  },
  {
   "cell_type": "code",
   "execution_count": 8,
   "metadata": {},
   "outputs": [
    {
     "name": "stdout",
     "output_type": "stream",
     "text": [
      "Extracting fields...\n",
      "Sorting...\n",
      "Reconstructing cascades...\n",
      "not running parent reconstruction...\n",
      "Adding information IDs to children...\n",
      "0/1\n",
      "Expanding events...\n",
      "Done!\n"
     ]
    },
    {
     "data": {
      "text/html": [
       "<div>\n",
       "<style scoped>\n",
       "    .dataframe tbody tr th:only-of-type {\n",
       "        vertical-align: middle;\n",
       "    }\n",
       "\n",
       "    .dataframe tbody tr th {\n",
       "        vertical-align: top;\n",
       "    }\n",
       "\n",
       "    .dataframe thead th {\n",
       "        text-align: right;\n",
       "    }\n",
       "</style>\n",
       "<table border=\"1\" class=\"dataframe\">\n",
       "  <thead>\n",
       "    <tr style=\"text-align: right;\">\n",
       "      <th></th>\n",
       "      <th>actionType</th>\n",
       "      <th>nodeID</th>\n",
       "      <th>nodeTime</th>\n",
       "      <th>nodeUserID</th>\n",
       "      <th>parentID</th>\n",
       "      <th>platform</th>\n",
       "      <th>rootID</th>\n",
       "      <th>informationID</th>\n",
       "    </tr>\n",
       "  </thead>\n",
       "  <tbody>\n",
       "    <tr>\n",
       "      <th>0</th>\n",
       "      <td>tweet</td>\n",
       "      <td>09lfHHshDvxRn0aGoG446w</td>\n",
       "      <td>2017-07-01T20:17:16Z</td>\n",
       "      <td>SO1ac7x6aKy5z-VZgL6l4w</td>\n",
       "      <td>09lfHHshDvxRn0aGoG446w</td>\n",
       "      <td>twitter</td>\n",
       "      <td>09lfHHshDvxRn0aGoG446w</td>\n",
       "      <td>CVE-2017-0143</td>\n",
       "    </tr>\n",
       "    <tr>\n",
       "      <th>1</th>\n",
       "      <td>retweet</td>\n",
       "      <td>56aepqqx2xLNmAxxvEeirw</td>\n",
       "      <td>2017-07-01T20:21:45Z</td>\n",
       "      <td>h1spW_KFiKNKzGiAlr3YsA</td>\n",
       "      <td>09lfHHshDvxRn0aGoG446w</td>\n",
       "      <td>twitter</td>\n",
       "      <td>09lfHHshDvxRn0aGoG446w</td>\n",
       "      <td>CVE-2017-0143</td>\n",
       "    </tr>\n",
       "    <tr>\n",
       "      <th>2</th>\n",
       "      <td>retweet</td>\n",
       "      <td>5MmFhzTsyeoKeHdgmOBjnw</td>\n",
       "      <td>2017-07-01T20:24:41Z</td>\n",
       "      <td>E6VQWiZUritPuU40-Jy0Kw</td>\n",
       "      <td>09lfHHshDvxRn0aGoG446w</td>\n",
       "      <td>twitter</td>\n",
       "      <td>09lfHHshDvxRn0aGoG446w</td>\n",
       "      <td>nmap</td>\n",
       "    </tr>\n",
       "    <tr>\n",
       "      <th>3</th>\n",
       "      <td>retweet</td>\n",
       "      <td>5MmFhzTsyeoKeHdgmOBjnw</td>\n",
       "      <td>2017-07-01T20:24:41Z</td>\n",
       "      <td>E6VQWiZUritPuU40-Jy0Kw</td>\n",
       "      <td>09lfHHshDvxRn0aGoG446w</td>\n",
       "      <td>twitter</td>\n",
       "      <td>09lfHHshDvxRn0aGoG446w</td>\n",
       "      <td>CVE-2017-0143</td>\n",
       "    </tr>\n",
       "    <tr>\n",
       "      <th>4</th>\n",
       "      <td>retweet</td>\n",
       "      <td>TnEUnc301-QS8r7TJOO8CQ</td>\n",
       "      <td>2017-07-01T20:25:27Z</td>\n",
       "      <td>l6f0yTrmfwWbkNcVyQteeQ</td>\n",
       "      <td>09lfHHshDvxRn0aGoG446w</td>\n",
       "      <td>twitter</td>\n",
       "      <td>09lfHHshDvxRn0aGoG446w</td>\n",
       "      <td>CVE-2017-0143</td>\n",
       "    </tr>\n",
       "  </tbody>\n",
       "</table>\n",
       "</div>"
      ],
      "text/plain": [
       "  actionType                  nodeID              nodeTime  \\\n",
       "0      tweet  09lfHHshDvxRn0aGoG446w  2017-07-01T20:17:16Z   \n",
       "1    retweet  56aepqqx2xLNmAxxvEeirw  2017-07-01T20:21:45Z   \n",
       "2    retweet  5MmFhzTsyeoKeHdgmOBjnw  2017-07-01T20:24:41Z   \n",
       "3    retweet  5MmFhzTsyeoKeHdgmOBjnw  2017-07-01T20:24:41Z   \n",
       "4    retweet  TnEUnc301-QS8r7TJOO8CQ  2017-07-01T20:25:27Z   \n",
       "\n",
       "               nodeUserID                parentID platform  \\\n",
       "0  SO1ac7x6aKy5z-VZgL6l4w  09lfHHshDvxRn0aGoG446w  twitter   \n",
       "1  h1spW_KFiKNKzGiAlr3YsA  09lfHHshDvxRn0aGoG446w  twitter   \n",
       "2  E6VQWiZUritPuU40-Jy0Kw  09lfHHshDvxRn0aGoG446w  twitter   \n",
       "3  E6VQWiZUritPuU40-Jy0Kw  09lfHHshDvxRn0aGoG446w  twitter   \n",
       "4  l6f0yTrmfwWbkNcVyQteeQ  09lfHHshDvxRn0aGoG446w  twitter   \n",
       "\n",
       "                   rootID  informationID  \n",
       "0  09lfHHshDvxRn0aGoG446w  CVE-2017-0143  \n",
       "1  09lfHHshDvxRn0aGoG446w  CVE-2017-0143  \n",
       "2  09lfHHshDvxRn0aGoG446w           nmap  \n",
       "3  09lfHHshDvxRn0aGoG446w  CVE-2017-0143  \n",
       "4  09lfHHshDvxRn0aGoG446w  CVE-2017-0143  "
      ]
     },
     "execution_count": 8,
     "metadata": {},
     "output_type": "execute_result"
    }
   ],
   "source": [
    "data = ss.extract_twitter_data('../data/example_raw_twitter_data.json',\n",
    "                               info_id_fields = [\"extension.socialsim_keywords\"],\n",
    "                               anonymized=True)\n",
    "data.head()"
   ]
  },
  {
   "cell_type": "markdown",
   "metadata": {},
   "source": [
    "However, if you were working with more standard Twitter data, you could also specify the fields containing Twitter's entity extraction results. For example, if you want to track the spread of mentions of specific users, you could specify the \"entities.user_mentions.screen_name\" field."
   ]
  },
  {
   "cell_type": "code",
   "execution_count": 9,
   "metadata": {},
   "outputs": [
    {
     "name": "stdout",
     "output_type": "stream",
     "text": [
      "Extracting fields...\n",
      "Sorting...\n",
      "Reconstructing cascades...\n",
      "not running parent reconstruction...\n",
      "Adding information IDs to children...\n",
      "0/1\n",
      "Expanding events...\n",
      "Done!\n"
     ]
    },
    {
     "data": {
      "text/html": [
       "<div>\n",
       "<style scoped>\n",
       "    .dataframe tbody tr th:only-of-type {\n",
       "        vertical-align: middle;\n",
       "    }\n",
       "\n",
       "    .dataframe tbody tr th {\n",
       "        vertical-align: top;\n",
       "    }\n",
       "\n",
       "    .dataframe thead th {\n",
       "        text-align: right;\n",
       "    }\n",
       "</style>\n",
       "<table border=\"1\" class=\"dataframe\">\n",
       "  <thead>\n",
       "    <tr style=\"text-align: right;\">\n",
       "      <th></th>\n",
       "      <th>actionType</th>\n",
       "      <th>nodeID</th>\n",
       "      <th>nodeTime</th>\n",
       "      <th>nodeUserID</th>\n",
       "      <th>parentID</th>\n",
       "      <th>platform</th>\n",
       "      <th>rootID</th>\n",
       "      <th>informationID</th>\n",
       "    </tr>\n",
       "  </thead>\n",
       "  <tbody>\n",
       "    <tr>\n",
       "      <th>0</th>\n",
       "      <td>retweet</td>\n",
       "      <td>56aepqqx2xLNmAxxvEeirw</td>\n",
       "      <td>2017-07-01T20:21:45Z</td>\n",
       "      <td>h1spW_KFiKNKzGiAlr3YsA</td>\n",
       "      <td>09lfHHshDvxRn0aGoG446w</td>\n",
       "      <td>twitter</td>\n",
       "      <td>09lfHHshDvxRn0aGoG446w</td>\n",
       "      <td>tD7ZRX_Ce5viq7z2pkIwRg</td>\n",
       "    </tr>\n",
       "    <tr>\n",
       "      <th>1</th>\n",
       "      <td>retweet</td>\n",
       "      <td>5MmFhzTsyeoKeHdgmOBjnw</td>\n",
       "      <td>2017-07-01T20:24:41Z</td>\n",
       "      <td>E6VQWiZUritPuU40-Jy0Kw</td>\n",
       "      <td>09lfHHshDvxRn0aGoG446w</td>\n",
       "      <td>twitter</td>\n",
       "      <td>09lfHHshDvxRn0aGoG446w</td>\n",
       "      <td>tD7ZRX_Ce5viq7z2pkIwRg</td>\n",
       "    </tr>\n",
       "    <tr>\n",
       "      <th>2</th>\n",
       "      <td>retweet</td>\n",
       "      <td>TnEUnc301-QS8r7TJOO8CQ</td>\n",
       "      <td>2017-07-01T20:25:27Z</td>\n",
       "      <td>l6f0yTrmfwWbkNcVyQteeQ</td>\n",
       "      <td>09lfHHshDvxRn0aGoG446w</td>\n",
       "      <td>twitter</td>\n",
       "      <td>09lfHHshDvxRn0aGoG446w</td>\n",
       "      <td>tD7ZRX_Ce5viq7z2pkIwRg</td>\n",
       "    </tr>\n",
       "    <tr>\n",
       "      <th>3</th>\n",
       "      <td>retweet</td>\n",
       "      <td>2EwY04fGAIVtPVUvgBxWKQ</td>\n",
       "      <td>2017-07-01T20:32:31Z</td>\n",
       "      <td>IHGHZa0JgIGjSsxGwySN8w</td>\n",
       "      <td>09lfHHshDvxRn0aGoG446w</td>\n",
       "      <td>twitter</td>\n",
       "      <td>09lfHHshDvxRn0aGoG446w</td>\n",
       "      <td>tD7ZRX_Ce5viq7z2pkIwRg</td>\n",
       "    </tr>\n",
       "    <tr>\n",
       "      <th>4</th>\n",
       "      <td>retweet</td>\n",
       "      <td>F8Z-373W1rilMPilh3yHcw</td>\n",
       "      <td>2017-07-01T20:33:29Z</td>\n",
       "      <td>rwcnjlkIk8TVv64k0GnLTg</td>\n",
       "      <td>09lfHHshDvxRn0aGoG446w</td>\n",
       "      <td>twitter</td>\n",
       "      <td>09lfHHshDvxRn0aGoG446w</td>\n",
       "      <td>tD7ZRX_Ce5viq7z2pkIwRg</td>\n",
       "    </tr>\n",
       "  </tbody>\n",
       "</table>\n",
       "</div>"
      ],
      "text/plain": [
       "  actionType                  nodeID              nodeTime  \\\n",
       "0    retweet  56aepqqx2xLNmAxxvEeirw  2017-07-01T20:21:45Z   \n",
       "1    retweet  5MmFhzTsyeoKeHdgmOBjnw  2017-07-01T20:24:41Z   \n",
       "2    retweet  TnEUnc301-QS8r7TJOO8CQ  2017-07-01T20:25:27Z   \n",
       "3    retweet  2EwY04fGAIVtPVUvgBxWKQ  2017-07-01T20:32:31Z   \n",
       "4    retweet  F8Z-373W1rilMPilh3yHcw  2017-07-01T20:33:29Z   \n",
       "\n",
       "               nodeUserID                parentID platform  \\\n",
       "0  h1spW_KFiKNKzGiAlr3YsA  09lfHHshDvxRn0aGoG446w  twitter   \n",
       "1  E6VQWiZUritPuU40-Jy0Kw  09lfHHshDvxRn0aGoG446w  twitter   \n",
       "2  l6f0yTrmfwWbkNcVyQteeQ  09lfHHshDvxRn0aGoG446w  twitter   \n",
       "3  IHGHZa0JgIGjSsxGwySN8w  09lfHHshDvxRn0aGoG446w  twitter   \n",
       "4  rwcnjlkIk8TVv64k0GnLTg  09lfHHshDvxRn0aGoG446w  twitter   \n",
       "\n",
       "                   rootID           informationID  \n",
       "0  09lfHHshDvxRn0aGoG446w  tD7ZRX_Ce5viq7z2pkIwRg  \n",
       "1  09lfHHshDvxRn0aGoG446w  tD7ZRX_Ce5viq7z2pkIwRg  \n",
       "2  09lfHHshDvxRn0aGoG446w  tD7ZRX_Ce5viq7z2pkIwRg  \n",
       "3  09lfHHshDvxRn0aGoG446w  tD7ZRX_Ce5viq7z2pkIwRg  \n",
       "4  09lfHHshDvxRn0aGoG446w  tD7ZRX_Ce5viq7z2pkIwRg  "
      ]
     },
     "execution_count": 9,
     "metadata": {},
     "output_type": "execute_result"
    }
   ],
   "source": [
    "data = ss.extract_twitter_data('../data/example_raw_twitter_data.json',\n",
    "                               info_id_fields = [\"entities.user_mentions.screen_name_h\"],\n",
    "                               anonymized=True)\n",
    "data.head()"
   ]
  },
  {
   "cell_type": "markdown",
   "metadata": {},
   "source": [
    "Additionally, you can search for specific keywords in the text of the tweets by using the keywords argument instead."
   ]
  },
  {
   "cell_type": "code",
   "execution_count": 10,
   "metadata": {},
   "outputs": [
    {
     "name": "stdout",
     "output_type": "stream",
     "text": [
      "Extracting fields...\n",
      "Sorting...\n",
      "Reconstructing cascades...\n",
      "not running parent reconstruction...\n",
      "Adding information IDs to children...\n",
      "0/1\n",
      "Expanding events...\n",
      "Done!\n"
     ]
    },
    {
     "data": {
      "text/html": [
       "<div>\n",
       "<style scoped>\n",
       "    .dataframe tbody tr th:only-of-type {\n",
       "        vertical-align: middle;\n",
       "    }\n",
       "\n",
       "    .dataframe tbody tr th {\n",
       "        vertical-align: top;\n",
       "    }\n",
       "\n",
       "    .dataframe thead th {\n",
       "        text-align: right;\n",
       "    }\n",
       "</style>\n",
       "<table border=\"1\" class=\"dataframe\">\n",
       "  <thead>\n",
       "    <tr style=\"text-align: right;\">\n",
       "      <th></th>\n",
       "      <th>actionType</th>\n",
       "      <th>nodeID</th>\n",
       "      <th>nodeTime</th>\n",
       "      <th>nodeUserID</th>\n",
       "      <th>parentID</th>\n",
       "      <th>platform</th>\n",
       "      <th>rootID</th>\n",
       "      <th>informationID</th>\n",
       "    </tr>\n",
       "  </thead>\n",
       "  <tbody>\n",
       "    <tr>\n",
       "      <th>0</th>\n",
       "      <td>tweet</td>\n",
       "      <td>09lfHHshDvxRn0aGoG446w</td>\n",
       "      <td>2017-07-01T20:17:16Z</td>\n",
       "      <td>SO1ac7x6aKy5z-VZgL6l4w</td>\n",
       "      <td>09lfHHshDvxRn0aGoG446w</td>\n",
       "      <td>twitter</td>\n",
       "      <td>09lfHHshDvxRn0aGoG446w</td>\n",
       "      <td>EternalBlue</td>\n",
       "    </tr>\n",
       "    <tr>\n",
       "      <th>1</th>\n",
       "      <td>tweet</td>\n",
       "      <td>09lfHHshDvxRn0aGoG446w</td>\n",
       "      <td>2017-07-01T20:17:16Z</td>\n",
       "      <td>SO1ac7x6aKy5z-VZgL6l4w</td>\n",
       "      <td>09lfHHshDvxRn0aGoG446w</td>\n",
       "      <td>twitter</td>\n",
       "      <td>09lfHHshDvxRn0aGoG446w</td>\n",
       "      <td>MS17-010</td>\n",
       "    </tr>\n",
       "    <tr>\n",
       "      <th>2</th>\n",
       "      <td>retweet</td>\n",
       "      <td>56aepqqx2xLNmAxxvEeirw</td>\n",
       "      <td>2017-07-01T20:21:45Z</td>\n",
       "      <td>h1spW_KFiKNKzGiAlr3YsA</td>\n",
       "      <td>09lfHHshDvxRn0aGoG446w</td>\n",
       "      <td>twitter</td>\n",
       "      <td>09lfHHshDvxRn0aGoG446w</td>\n",
       "      <td>EternalBlue</td>\n",
       "    </tr>\n",
       "    <tr>\n",
       "      <th>3</th>\n",
       "      <td>retweet</td>\n",
       "      <td>56aepqqx2xLNmAxxvEeirw</td>\n",
       "      <td>2017-07-01T20:21:45Z</td>\n",
       "      <td>h1spW_KFiKNKzGiAlr3YsA</td>\n",
       "      <td>09lfHHshDvxRn0aGoG446w</td>\n",
       "      <td>twitter</td>\n",
       "      <td>09lfHHshDvxRn0aGoG446w</td>\n",
       "      <td>MS17-010</td>\n",
       "    </tr>\n",
       "    <tr>\n",
       "      <th>4</th>\n",
       "      <td>retweet</td>\n",
       "      <td>5MmFhzTsyeoKeHdgmOBjnw</td>\n",
       "      <td>2017-07-01T20:24:41Z</td>\n",
       "      <td>E6VQWiZUritPuU40-Jy0Kw</td>\n",
       "      <td>09lfHHshDvxRn0aGoG446w</td>\n",
       "      <td>twitter</td>\n",
       "      <td>09lfHHshDvxRn0aGoG446w</td>\n",
       "      <td>EternalBlue</td>\n",
       "    </tr>\n",
       "  </tbody>\n",
       "</table>\n",
       "</div>"
      ],
      "text/plain": [
       "  actionType                  nodeID              nodeTime  \\\n",
       "0      tweet  09lfHHshDvxRn0aGoG446w  2017-07-01T20:17:16Z   \n",
       "1      tweet  09lfHHshDvxRn0aGoG446w  2017-07-01T20:17:16Z   \n",
       "2    retweet  56aepqqx2xLNmAxxvEeirw  2017-07-01T20:21:45Z   \n",
       "3    retweet  56aepqqx2xLNmAxxvEeirw  2017-07-01T20:21:45Z   \n",
       "4    retweet  5MmFhzTsyeoKeHdgmOBjnw  2017-07-01T20:24:41Z   \n",
       "\n",
       "               nodeUserID                parentID platform  \\\n",
       "0  SO1ac7x6aKy5z-VZgL6l4w  09lfHHshDvxRn0aGoG446w  twitter   \n",
       "1  SO1ac7x6aKy5z-VZgL6l4w  09lfHHshDvxRn0aGoG446w  twitter   \n",
       "2  h1spW_KFiKNKzGiAlr3YsA  09lfHHshDvxRn0aGoG446w  twitter   \n",
       "3  h1spW_KFiKNKzGiAlr3YsA  09lfHHshDvxRn0aGoG446w  twitter   \n",
       "4  E6VQWiZUritPuU40-Jy0Kw  09lfHHshDvxRn0aGoG446w  twitter   \n",
       "\n",
       "                   rootID informationID  \n",
       "0  09lfHHshDvxRn0aGoG446w   EternalBlue  \n",
       "1  09lfHHshDvxRn0aGoG446w      MS17-010  \n",
       "2  09lfHHshDvxRn0aGoG446w   EternalBlue  \n",
       "3  09lfHHshDvxRn0aGoG446w      MS17-010  \n",
       "4  09lfHHshDvxRn0aGoG446w   EternalBlue  "
      ]
     },
     "execution_count": 10,
     "metadata": {},
     "output_type": "execute_result"
    }
   ],
   "source": [
    "data = ss.extract_twitter_data('../data/example_raw_twitter_data.json',\n",
    "                               keywords = ['EternalBlue','MS17-010'],\n",
    "                               anonymized=True)\n",
    "data.head()"
   ]
  },
  {
   "cell_type": "code",
   "execution_count": null,
   "metadata": {},
   "outputs": [],
   "source": []
  }
 ],
 "metadata": {
  "kernelspec": {
   "display_name": "SocSim",
   "language": "python",
   "name": "socsim_test_env"
  },
  "language_info": {
   "codemirror_mode": {
    "name": "ipython",
    "version": 3
   },
   "file_extension": ".py",
   "mimetype": "text/x-python",
   "name": "python",
   "nbconvert_exporter": "python",
   "pygments_lexer": "ipython3",
   "version": "3.6.7"
  }
 },
 "nbformat": 4,
 "nbformat_minor": 2
}
